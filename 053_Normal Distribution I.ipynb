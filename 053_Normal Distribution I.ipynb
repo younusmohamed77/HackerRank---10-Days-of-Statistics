{
 "cells": [
  {
   "cell_type": "markdown",
   "id": "22eb8efc",
   "metadata": {},
   "source": [
    "#### Task\n",
    "In a certain plant, the time taken to assemble a car is a random variable, X, having a normal distribution with a mean of 20 hours and a standard deviation of 2 hours. What is the probability that a car can be assembled at this plant in:\n",
    "1. Less than 19.5 hours?\n",
    "2. Between 20 and 22 hours?\n",
    "#### Output Format\n",
    "There are two lines of output. Your answers must be rounded to a scale of 3 decimal places (i.e., 1.234 format):\n",
    "1. On the first line, print the answer to question 1 (i.e., the probability that a car can be assembled in less than 19.5 hours).\n",
    "2. On the second line, print the answer to question 2 (i.e., the probability that a car can be assembled in between 20 to 22 hours)."
   ]
  },
  {
   "cell_type": "code",
   "execution_count": 1,
   "id": "9ef727b8",
   "metadata": {},
   "outputs": [
    {
     "name": "stdout",
     "output_type": "stream",
     "text": [
      "0.401\n",
      "0.341\n"
     ]
    }
   ],
   "source": [
    "from scipy.stats import norm\n",
    "\n",
    "mu = 20\n",
    "sigma = 2\n",
    "\n",
    "z1 = (19.5 - mu) / sigma\n",
    "prob_less_than_19_5 = norm.cdf(z1)\n",
    "\n",
    "z2 = (20 - mu) / sigma\n",
    "z3 = (22 - mu) / sigma\n",
    "prob_between_20_and_22 = norm.cdf(z3) - norm.cdf(z2)\n",
    "\n",
    "print(f\"{prob_less_than_19_5:.3f}\")\n",
    "print(f\"{prob_between_20_and_22:.3f}\")\n"
   ]
  },
  {
   "cell_type": "code",
   "execution_count": 2,
   "id": "3a083fe1",
   "metadata": {},
   "outputs": [
    {
     "name": "stdout",
     "output_type": "stream",
     "text": [
      "0.401\n",
      "0.341\n"
     ]
    }
   ],
   "source": [
    "import math\n",
    "\n",
    "def normal_cdf(z):\n",
    "    return 0.5 * (1 + math.erf(z / math.sqrt(2)))\n",
    "\n",
    "mu = 20\n",
    "sigma = 2\n",
    "\n",
    "z1 = (19.5 - mu) / sigma\n",
    "prob_less_than_19_5 = normal_cdf(z1)\n",
    "\n",
    "z2 = (20 - mu) / sigma\n",
    "z3 = (22 - mu) / sigma\n",
    "prob_between_20_and_22 = normal_cdf(z3) - normal_cdf(z2)\n",
    "\n",
    "print(f\"{prob_less_than_19_5:.3f}\")\n",
    "print(f\"{prob_between_20_and_22:.3f}\")\n"
   ]
  },
  {
   "cell_type": "code",
   "execution_count": null,
   "id": "f67f92d8",
   "metadata": {},
   "outputs": [],
   "source": []
  }
 ],
 "metadata": {
  "kernelspec": {
   "display_name": "Python 3 (ipykernel)",
   "language": "python",
   "name": "python3"
  },
  "language_info": {
   "codemirror_mode": {
    "name": "ipython",
    "version": 3
   },
   "file_extension": ".py",
   "mimetype": "text/x-python",
   "name": "python",
   "nbconvert_exporter": "python",
   "pygments_lexer": "ipython3",
   "version": "3.11.5"
  }
 },
 "nbformat": 4,
 "nbformat_minor": 5
}
