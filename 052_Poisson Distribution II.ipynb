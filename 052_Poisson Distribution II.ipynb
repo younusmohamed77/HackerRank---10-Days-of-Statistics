{
 "cells": [
  {
   "cell_type": "markdown",
   "id": "9202d86f",
   "metadata": {},
   "source": [
    "#### Task\n",
    "The manager of a industrial plant is planning to buy a machine of either type A or type B. For each day’s operation:\n",
    "- The number of repairs, X, that machine A needs is a Poisson random variable with mean 0.88. The daily cost of operating A is CA = 160 + 40X^2.\n",
    "- The number of repairs, Y, that machine B needs is a Poisson random variable with mean 1.55. The daily cost of operating b is CB = 120 + 40Y^2.\n",
    "Assume that the repairs take a negligible amount of time and the machines are maintained nightly to ensure that they operate like new at the start of each day. Find and print the expected daily cost for each machine.\n",
    "\n",
    "#### Output Format\n",
    "There are two lines of output. Your answers must be rounded to a scale of 3 decimal places (i.e., 1.234 format):\n",
    "- On the first line, print the expected daily cost of machine A.\n",
    "- On the second line, print the expected daily cost of machine B."
   ]
  },
  {
   "cell_type": "code",
   "execution_count": 6,
   "id": "714dfaa6",
   "metadata": {},
   "outputs": [
    {
     "name": "stdout",
     "output_type": "stream",
     "text": [
      "226.176\n",
      "286.100\n"
     ]
    }
   ],
   "source": [
    "lambda_a = 0.88\n",
    "expected_X2 = lambda_a + lambda_a**2\n",
    "expected_cost_A = 160 + 40 * (expected_X2)\n",
    "\n",
    "lambda_b = 1.55\n",
    "expected_Y2 = lambda_b + lambda_b**2\n",
    "expected_cost_B = 128 + 40 * (expected_Y2)\n",
    "\n",
    "print(f\"{expected_cost_A:.3f}\")\n",
    "print(f\"{expected_cost_B:.3f}\")"
   ]
  },
  {
   "cell_type": "code",
   "execution_count": null,
   "id": "c4c8b49f",
   "metadata": {},
   "outputs": [],
   "source": []
  }
 ],
 "metadata": {
  "kernelspec": {
   "display_name": "Python 3 (ipykernel)",
   "language": "python",
   "name": "python3"
  },
  "language_info": {
   "codemirror_mode": {
    "name": "ipython",
    "version": 3
   },
   "file_extension": ".py",
   "mimetype": "text/x-python",
   "name": "python",
   "nbconvert_exporter": "python",
   "pygments_lexer": "ipython3",
   "version": "3.11.5"
  }
 },
 "nbformat": 4,
 "nbformat_minor": 5
}
