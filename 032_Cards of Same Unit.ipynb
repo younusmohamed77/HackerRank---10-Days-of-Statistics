{
 "cells": [
  {
   "cell_type": "markdown",
   "id": "cb497c08",
   "metadata": {},
   "source": [
    "You draw 2 cards from a standard 52-card deck without replacing them. What is the probability that both cards are of the same suit?"
   ]
  },
  {
   "cell_type": "code",
   "execution_count": 2,
   "id": "47f08814",
   "metadata": {},
   "outputs": [
    {
     "name": "stdout",
     "output_type": "stream",
     "text": [
      "4/17\n"
     ]
    }
   ],
   "source": [
    "from fractions import Fraction\n",
    "\n",
    "def probability_same_suit():\n",
    "    # Total ways to draw 2 cards from 52\n",
    "    total_ways = 52 * 51 // 2\n",
    "    \n",
    "    # Ways to draw 2 cards from 13 cards of the same suit\n",
    "    ways_per_suit = 13 * 12 // 2\n",
    "    \n",
    "    # Total favorable outcomes (4 suits)\n",
    "    favorable_ways = 4 * ways_per_suit\n",
    "    \n",
    "    # Probability\n",
    "    return Fraction(favorable_ways, total_ways)\n",
    "\n",
    "# Call the function and print the result\n",
    "print(probability_same_suit())\n"
   ]
  },
  {
   "cell_type": "code",
   "execution_count": null,
   "id": "cd3b8ccc",
   "metadata": {},
   "outputs": [],
   "source": []
  }
 ],
 "metadata": {
  "kernelspec": {
   "display_name": "Python 3 (ipykernel)",
   "language": "python",
   "name": "python3"
  },
  "language_info": {
   "codemirror_mode": {
    "name": "ipython",
    "version": 3
   },
   "file_extension": ".py",
   "mimetype": "text/x-python",
   "name": "python",
   "nbconvert_exporter": "python",
   "pygments_lexer": "ipython3",
   "version": "3.11.5"
  }
 },
 "nbformat": 4,
 "nbformat_minor": 5
}
