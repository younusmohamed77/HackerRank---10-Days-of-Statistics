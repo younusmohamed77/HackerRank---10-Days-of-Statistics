{
 "cells": [
  {
   "cell_type": "markdown",
   "id": "15c48210",
   "metadata": {},
   "source": [
    "#### Objective\n",
    "In this challenge, we practice calculating standard deviation. Check out the Tutorial tab for learning materials and an instructional video!\n",
    "\n",
    "#### Task\n",
    "Given an array, arr, of n integers, calculate and print the standard deviation. Your answer should be in decimal form, rounded to a scale of 1 decimal place (i.e., 12.3 format). An error margin of +_0.1 will be tolerated for the standard deviation."
   ]
  },
  {
   "cell_type": "code",
   "execution_count": 1,
   "id": "178ee6f0",
   "metadata": {},
   "outputs": [
    {
     "ename": "IndentationError",
     "evalue": "expected an indented block after function definition on line 15 (1913835477.py, line 18)",
     "output_type": "error",
     "traceback": [
      "\u001b[1;36m  Cell \u001b[1;32mIn[1], line 18\u001b[1;36m\u001b[0m\n\u001b[1;33m    if __name__ == '__main__':\u001b[0m\n\u001b[1;37m    ^\u001b[0m\n\u001b[1;31mIndentationError\u001b[0m\u001b[1;31m:\u001b[0m expected an indented block after function definition on line 15\n"
     ]
    }
   ],
   "source": [
    "#!/bin/python3\n",
    "\n",
    "import math\n",
    "import os\n",
    "import random\n",
    "import re\n",
    "import sys\n",
    "\n",
    "#\n",
    "# Complete the 'stdDev' function below.\n",
    "#\n",
    "# The function accepts INTEGER_ARRAY arr as parameter.\n",
    "#\n",
    "\n",
    "def stdDev(arr):\n",
    "    # Print your answers to 1 decimal place within this function\n",
    "\n",
    "if __name__ == '__main__':\n",
    "    n = int(input().strip())\n",
    "\n",
    "    vals = list(map(int, input().rstrip().split()))\n",
    "\n",
    "    stdDev(vals)\n"
   ]
  },
  {
   "cell_type": "code",
   "execution_count": 11,
   "id": "cf7f33aa",
   "metadata": {},
   "outputs": [],
   "source": [
    "def stdDev(arr):\n",
    "    mean = sum(arr) / len(arr)\n",
    "    print(mean)\n",
    "    sd_sum = 0\n",
    "    \n",
    "    for i in arr:\n",
    "        print(sd_sum, i)\n",
    "        sd_sum = sd_sum + ((i - mean) ** 2)\n",
    "        \n",
    "    sd = sd_sum / len(arr)\n",
    "    print(\"{:1f}\".format(sd))"
   ]
  },
  {
   "cell_type": "code",
   "execution_count": 12,
   "id": "5ea195fd",
   "metadata": {},
   "outputs": [
    {
     "name": "stdout",
     "output_type": "stream",
     "text": [
      "5\n",
      "10 40 30 50 20 \n",
      "30.0\n",
      "0 10\n",
      "400.0 40\n",
      "500.0 30\n",
      "500.0 50\n",
      "900.0 20\n",
      "200.000000\n"
     ]
    }
   ],
   "source": [
    "if __name__ == '__main__':\n",
    "    n = int(input().strip())\n",
    "\n",
    "    vals = list(map(int, input().rstrip().split()))\n",
    "\n",
    "    stdDev(vals)"
   ]
  },
  {
   "cell_type": "code",
   "execution_count": 14,
   "id": "ff7ed2d7",
   "metadata": {},
   "outputs": [],
   "source": [
    "def stdDev(arr):\n",
    "    mean = sum(arr) / len(arr)\n",
    "    var = []\n",
    "    \n",
    "    for i in arr:\n",
    "        sd_sum = (i - mean) ** 2\n",
    "        var.append(sd_sum)\n",
    "        \n",
    "    sd = sum(var) / len(var)\n",
    "    print(\"{:1f}\".format(sd))"
   ]
  },
  {
   "cell_type": "code",
   "execution_count": 17,
   "id": "44015048",
   "metadata": {},
   "outputs": [],
   "source": [
    "def stdDev(arr):\n",
    "    mean = sum(arr) / len(arr)\n",
    "    var = []\n",
    "    \n",
    "    for i in arr:\n",
    "        sd_sum = (i - mean) ** 2\n",
    "        var.append(sd_sum)\n",
    "        print(sd_sum, var)\n",
    "        \n",
    "    print(sum(var), len(var))\n",
    "    sd = sum(var) / len(var)\n",
    "    print(\"{:1f}\".format(sd))"
   ]
  },
  {
   "cell_type": "code",
   "execution_count": 18,
   "id": "fd96d09a",
   "metadata": {},
   "outputs": [
    {
     "name": "stdout",
     "output_type": "stream",
     "text": [
      "5\n",
      "10 40 30 50 20 \n",
      "400.0 [400.0]\n",
      "100.0 [400.0, 100.0]\n",
      "0.0 [400.0, 100.0, 0.0]\n",
      "400.0 [400.0, 100.0, 0.0, 400.0]\n",
      "100.0 [400.0, 100.0, 0.0, 400.0, 100.0]\n",
      "1000.0 5\n",
      "200.000000\n"
     ]
    }
   ],
   "source": [
    "if __name__ == '__main__':\n",
    "    n = int(input().strip())\n",
    "\n",
    "    vals = list(map(int, input().rstrip().split()))\n",
    "\n",
    "    stdDev(vals)"
   ]
  },
  {
   "cell_type": "code",
   "execution_count": null,
   "id": "b6d8c685",
   "metadata": {},
   "outputs": [],
   "source": [
    "def stdDev(arr):\n",
    "    mean = sum(arr) / len(arr)\n",
    "    sd_sum = 0\n",
    "    \n",
    "    for i in arr:\n",
    "        sd_sum = sd_sum + ((i - mean) ** 2)\n",
    "        \n",
    "    sd = math.sqrt(sd_sum / len(arr))\n",
    "    print(\"{:1f}\".format(sd))"
   ]
  }
 ],
 "metadata": {
  "kernelspec": {
   "display_name": "Python 3 (ipykernel)",
   "language": "python",
   "name": "python3"
  },
  "language_info": {
   "codemirror_mode": {
    "name": "ipython",
    "version": 3
   },
   "file_extension": ".py",
   "mimetype": "text/x-python",
   "name": "python",
   "nbconvert_exporter": "python",
   "pygments_lexer": "ipython3",
   "version": "3.11.5"
  }
 },
 "nbformat": 4,
 "nbformat_minor": 5
}
