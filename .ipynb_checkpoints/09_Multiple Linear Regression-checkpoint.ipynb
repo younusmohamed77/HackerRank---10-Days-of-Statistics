{
 "cells": [
  {
   "cell_type": "markdown",
   "id": "4a72ae8f",
   "metadata": {},
   "source": [
    "#### Task\n",
    "Andrea has a simple equation:\n",
    "\n",
    "Y = a1 + b1 . f1 + b1 . f2 + ... + bm . fm\n",
    "\n",
    "for (m + 1) real constants (a, f1, f2, ..., fm). We can say that the value of Y depends on m features. Andrea studies this equation for  different feature sets  and records each respective value of . If she has q new feature sets, can you help Andrea find the value of Y for each of the sets?\n",
    "\n",
    "#### Note: \n",
    "You are not expected to account for bias and variance trade-offs.\n",
    "\n",
    "#### Input Format\n",
    "The first line contains 2 space-separated integers, m (the number of observed features) and n (the number of feature sets Andrea studied), respectively.\n",
    "Each of the n subsequent lines contain m + 1 space-separated decimals; the first m elements are features (f1, f2, f3, ..., fm), and the last element is the value of Y for the line's feature set.\n",
    "The next line contains a single integer, q, denoting the number of feature sets Andrea wants to query for.\n",
    "Each of the q subsequent lines contains m space-separated decimals describing the feature sets.\n",
    "\n",
    "#### Output Format\n",
    "For each of the q feature sets, print the value of Y on a new line (i.e., you must print a total of q lines)."
   ]
  },
  {
   "cell_type": "code",
   "execution_count": 1,
   "id": "61717bb7",
   "metadata": {},
   "outputs": [
    {
     "name": "stdout",
     "output_type": "stream",
     "text": [
      "2 7\n",
      "0.18 0.89 109.85\n",
      "1.0 0.26 155.72\n",
      "0.92 0.11 137.66\n",
      "0.07 0.37 76.17\n",
      "0.85 0.16 139.75\n",
      "0.99 0.41 162.6\n",
      "0.87 0.47 151.77\n",
      "4\n",
      "0.49 0.18\n",
      "105.21455835106944\n",
      "0.57 0.83\n",
      "142.67095130729922\n",
      "0.56 0.64\n",
      "132.93605469124694\n",
      "0.76 0.18\n",
      "129.70175404502453\n"
     ]
    }
   ],
   "source": [
    "import numpy as np\n",
    "from sklearn.linear_model import LinearRegression\n",
    "\n",
    "# Read input values\n",
    "m, n = map(int, input().split())\n",
    "\n",
    "# Initialize lists to hold features and Y values\n",
    "features = []\n",
    "Y = []\n",
    "\n",
    "# Read the observed feature sets and corresponding Y values\n",
    "for _ in range(n):\n",
    "    *f, y = map(float, input().split())\n",
    "    features.append(f)\n",
    "    Y.append(y)\n",
    "\n",
    "# Convert lists to numpy arrays\n",
    "features = np.array(features)\n",
    "Y = np.array(Y)\n",
    "\n",
    "# Train the linear regression model\n",
    "model = LinearRegression()\n",
    "model.fit(features, Y)\n",
    "\n",
    "# Read the number of queries\n",
    "q = int(input())\n",
    "\n",
    "# Read the feature sets to be queried and predict the Y values\n",
    "for _ in range(q):\n",
    "    f_query = list(map(float, input().split()))\n",
    "    y_pred = model.predict([f_query])\n",
    "    print(f\"{y_pred[0]:.2f}\")\n"
   ]
  },
  {
   "cell_type": "code",
   "execution_count": null,
   "id": "6282d6be",
   "metadata": {},
   "outputs": [],
   "source": []
  }
 ],
 "metadata": {
  "kernelspec": {
   "display_name": "Python 3 (ipykernel)",
   "language": "python",
   "name": "python3"
  },
  "language_info": {
   "codemirror_mode": {
    "name": "ipython",
    "version": 3
   },
   "file_extension": ".py",
   "mimetype": "text/x-python",
   "name": "python",
   "nbconvert_exporter": "python",
   "pygments_lexer": "ipython3",
   "version": "3.11.5"
  }
 },
 "nbformat": 4,
 "nbformat_minor": 5
}
