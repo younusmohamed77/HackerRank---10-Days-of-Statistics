{
 "cells": [
  {
   "cell_type": "markdown",
   "id": "589d647e",
   "metadata": {},
   "source": [
    "#### Task\n",
    "A large elevator can transport a maximum of 9800 pounds. Suppose a load of cargo containing 49 boxes must be transported via the elevator. The box weight of this type of cargo follows a distribution with a mean of mu = 205 pounds and a standard deviation of sigma = 15 pounds. Based on this information, what is the probability that all 49 boxes can be safely loaded into the freight elevator and transported?\n",
    "\n",
    "#### Input Format\n",
    "There are 4 lines of input (shown below):\n",
    "\n",
    "    9800\n",
    "    49\n",
    "    205\n",
    "    15\n",
    "The first line contains the maximum weight the elevator can transport. The second line contains the number of boxes in the cargo. The third line contains the mean weight of a cargo box, and the fourth line contains its standard deviation.\n",
    "\n",
    "If you do not wish to read this information from stdin, you can hard-code it into your program.\n",
    "\n",
    "Output Format\n",
    "\n",
    "Print the probability that the elevator can successfully transport all 49 boxes, rounded to a scale of 4 decimal places (i.e., 1.2345 format)."
   ]
  },
  {
   "cell_type": "code",
   "execution_count": 1,
   "id": "c7811de0",
   "metadata": {},
   "outputs": [
    {
     "name": "stdout",
     "output_type": "stream",
     "text": [
      "0.0098\n"
     ]
    }
   ],
   "source": [
    "import math\n",
    "\n",
    "# Input values\n",
    "max_weight = 9800\n",
    "n = 49\n",
    "mu = 205\n",
    "sigma = 15\n",
    "\n",
    "# Calculate the total mean and standard deviation\n",
    "total_mean = n * mu\n",
    "total_std = math.sqrt(n) * sigma\n",
    "\n",
    "# Calculate the Z-score\n",
    "z = (max_weight - total_mean) / total_std\n",
    "\n",
    "# Calculate the CDF of the standard normal distribution using the error function\n",
    "def normal_cdf(z):\n",
    "    return 0.5 * (1 + math.erf(z / math.sqrt(2)))\n",
    "\n",
    "# Calculate the probability\n",
    "probability = normal_cdf(z)\n",
    "\n",
    "# Print the probability rounded to 4 decimal places\n",
    "print(f\"{probability:.4f}\")\n"
   ]
  },
  {
   "cell_type": "code",
   "execution_count": null,
   "id": "b2b7d7d0",
   "metadata": {},
   "outputs": [],
   "source": []
  }
 ],
 "metadata": {
  "kernelspec": {
   "display_name": "Python 3 (ipykernel)",
   "language": "python",
   "name": "python3"
  },
  "language_info": {
   "codemirror_mode": {
    "name": "ipython",
    "version": 3
   },
   "file_extension": ".py",
   "mimetype": "text/x-python",
   "name": "python",
   "nbconvert_exporter": "python",
   "pygments_lexer": "ipython3",
   "version": "3.11.5"
  }
 },
 "nbformat": 4,
 "nbformat_minor": 5
}
