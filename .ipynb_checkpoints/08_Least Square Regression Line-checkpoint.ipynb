{
 "cells": [
  {
   "cell_type": "markdown",
   "id": "cd3911c8",
   "metadata": {},
   "source": [
    "#### Task\n",
    "A group of five students enrolls in Statistics immediately after taking a Math aptitude test. Each student's Math aptitude test score, x, and Statistics course grade, y, can be expressed as the following list of (x, y) points:\n",
    "\n",
    "1. (95, 85)\n",
    "2. (85, 95)\n",
    "3. (80, 70)\n",
    "4. (70, 65)\n",
    "5. (60, 70)\n",
    "\n",
    "If a student scored an 80 on the Math aptitude test, what grade would we expect them to achieve in Statistics? Determine the equation of the best-fit line using the least squares method, then compute and print the value of y when x = 80.\n",
    "\n",
    "Print a single line denoting the answer, rounded to a scale of 3 decimal places (i.e., 1.234 format)."
   ]
  },
  {
   "cell_type": "code",
   "execution_count": 1,
   "id": "4ad470ff",
   "metadata": {},
   "outputs": [
    {
     "data": {
      "text/plain": [
       "78.288"
      ]
     },
     "execution_count": 1,
     "metadata": {},
     "output_type": "execute_result"
    }
   ],
   "source": [
    "import numpy as np\n",
    "\n",
    "# Given data points\n",
    "x = np.array([95, 85, 80, 70, 60])\n",
    "y = np.array([85, 95, 70, 65, 70])\n",
    "\n",
    "# Number of data points\n",
    "n = len(x)\n",
    "\n",
    "# Step 1: Calculate the means\n",
    "x_mean = np.mean(x)\n",
    "y_mean = np.mean(y)\n",
    "\n",
    "# Step 2: Compute the slope (b)\n",
    "b = np.sum((x - x_mean) * (y - y_mean)) / np.sum((x - x_mean) ** 2)\n",
    "\n",
    "# Step 3: Compute the intercept (a)\n",
    "a = y_mean - b * x_mean\n",
    "\n",
    "# Step 4: Form the regression line equation and predict y for x = 80\n",
    "x_predict = 80\n",
    "y_predict = a + b * x_predict\n",
    "\n",
    "# Output the result rounded to 3 decimal places\n",
    "round(y_predict, 3)\n"
   ]
  },
  {
   "cell_type": "code",
   "execution_count": 2,
   "id": "3cb28939",
   "metadata": {},
   "outputs": [
    {
     "name": "stdout",
     "output_type": "stream",
     "text": [
      "78.288\n"
     ]
    }
   ],
   "source": [
    "# Given data points\n",
    "x = [95, 85, 80, 70, 60]\n",
    "y = [85, 95, 70, 65, 70]\n",
    "\n",
    "# Number of data points\n",
    "n = len(x)\n",
    "\n",
    "# Step 1: Calculate the means\n",
    "x_mean = sum(x) / n\n",
    "y_mean = sum(y) / n\n",
    "\n",
    "# Step 2: Compute the slope (b)\n",
    "numerator = sum((x[i] - x_mean) * (y[i] - y_mean) for i in range(n))\n",
    "denominator = sum((x[i] - x_mean) ** 2 for i in range(n))\n",
    "b = numerator / denominator\n",
    "\n",
    "# Step 3: Compute the intercept (a)\n",
    "a = y_mean - b * x_mean\n",
    "\n",
    "# Step 4: Form the regression line equation and predict y for x = 80\n",
    "x_predict = 80\n",
    "y_predict = a + b * x_predict\n",
    "\n",
    "# Print the result rounded to 3 decimal places\n",
    "print('{:.3f}'.format(y_predict))\n"
   ]
  },
  {
   "cell_type": "code",
   "execution_count": null,
   "id": "dfcc90bf",
   "metadata": {},
   "outputs": [],
   "source": []
  }
 ],
 "metadata": {
  "kernelspec": {
   "display_name": "Python 3 (ipykernel)",
   "language": "python",
   "name": "python3"
  },
  "language_info": {
   "codemirror_mode": {
    "name": "ipython",
    "version": 3
   },
   "file_extension": ".py",
   "mimetype": "text/x-python",
   "name": "python",
   "nbconvert_exporter": "python",
   "pygments_lexer": "ipython3",
   "version": "3.11.5"
  }
 },
 "nbformat": 4,
 "nbformat_minor": 5
}
