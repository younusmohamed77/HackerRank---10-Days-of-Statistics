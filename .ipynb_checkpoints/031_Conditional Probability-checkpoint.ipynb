{
 "cells": [
  {
   "cell_type": "markdown",
   "id": "9c064089",
   "metadata": {},
   "source": [
    "Suppose a family has 2 children, one of which is a boy. What is the probability that both children are boys?"
   ]
  },
  {
   "cell_type": "code",
   "execution_count": 1,
   "id": "7a68f120",
   "metadata": {},
   "outputs": [
    {
     "name": "stdout",
     "output_type": "stream",
     "text": [
      "1/3\n"
     ]
    }
   ],
   "source": [
    "from fractions import Fraction\n",
    "\n",
    "def probability_both_boys_given_one_is_boy():\n",
    "    # Possible outcomes when one child is a boy: BB, BG, GB\n",
    "    # Favorable outcome: BB\n",
    "    favorable_outcomes = 1\n",
    "    possible_outcomes = 3\n",
    "    return Fraction(favorable_outcomes, possible_outcomes)\n",
    "\n",
    "# Call the function and print the result\n",
    "print(probability_both_boys_given_one_is_boy())\n"
   ]
  },
  {
   "cell_type": "code",
   "execution_count": null,
   "id": "b538b6a4",
   "metadata": {},
   "outputs": [],
   "source": []
  }
 ],
 "metadata": {
  "kernelspec": {
   "display_name": "Python 3 (ipykernel)",
   "language": "python",
   "name": "python3"
  },
  "language_info": {
   "codemirror_mode": {
    "name": "ipython",
    "version": 3
   },
   "file_extension": ".py",
   "mimetype": "text/x-python",
   "name": "python",
   "nbconvert_exporter": "python",
   "pygments_lexer": "ipython3",
   "version": "3.11.5"
  }
 },
 "nbformat": 4,
 "nbformat_minor": 5
}
