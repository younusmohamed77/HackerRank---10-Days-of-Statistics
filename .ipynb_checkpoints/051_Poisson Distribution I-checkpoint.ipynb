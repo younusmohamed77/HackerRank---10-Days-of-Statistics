{
 "cells": [
  {
   "cell_type": "markdown",
   "id": "7cc7a53d",
   "metadata": {},
   "source": [
    "#### Task\n",
    "A random variable, X, follows Poisson distribution with mean of 2.5. Find the probability with which the random variable X is equal to 5.\n",
    "\n",
    "#### Output Format\n",
    "\n",
    "Print a single line denoting the answer, rounded to a scale of 3 decimal places (i.e., 1.234 format)."
   ]
  },
  {
   "cell_type": "code",
   "execution_count": 1,
   "id": "38c0df02",
   "metadata": {},
   "outputs": [
    {
     "name": "stdout",
     "output_type": "stream",
     "text": [
      "0.067\n"
     ]
    }
   ],
   "source": [
    "import math\n",
    "\n",
    "lambda_value = 2.5\n",
    "k = 5\n",
    "\n",
    "probability = (lambda_value ** k) * math.exp(-lambda_value) / math.factorial(k)\n",
    "\n",
    "print(f\"{probability:.3f}\")\n"
   ]
  },
  {
   "cell_type": "code",
   "execution_count": null,
   "id": "8fd25438",
   "metadata": {},
   "outputs": [],
   "source": []
  }
 ],
 "metadata": {
  "kernelspec": {
   "display_name": "Python 3 (ipykernel)",
   "language": "python",
   "name": "python3"
  },
  "language_info": {
   "codemirror_mode": {
    "name": "ipython",
    "version": 3
   },
   "file_extension": ".py",
   "mimetype": "text/x-python",
   "name": "python",
   "nbconvert_exporter": "python",
   "pygments_lexer": "ipython3",
   "version": "3.11.5"
  }
 },
 "nbformat": 4,
 "nbformat_minor": 5
}
