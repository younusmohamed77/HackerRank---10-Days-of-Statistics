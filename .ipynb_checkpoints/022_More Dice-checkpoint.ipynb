{
 "cells": [
  {
   "cell_type": "markdown",
   "id": "e3085b62",
   "metadata": {},
   "source": [
    "#### Objective\n",
    "In this challenge, we practice calculating probability. We recommend you review the previous challenge's Tutorial before attempting this problem.\n",
    "\n",
    "\n",
    "#### Task\n",
    "In a single toss of 2 fair (evenly-weighted) six-sided dice, find the probability that the values rolled by each die will be different and the two dice have a sum of 6."
   ]
  },
  {
   "cell_type": "code",
   "execution_count": 1,
   "id": "3f5ba533",
   "metadata": {},
   "outputs": [
    {
     "name": "stdout",
     "output_type": "stream",
     "text": [
      "4\n",
      "36\n",
      "0.1111111111111111\n"
     ]
    }
   ],
   "source": [
    "counter = 0\n",
    "total_counter = 0\n",
    "\n",
    "for i in range (1, 7):\n",
    "    \n",
    "    for j in range(1, 7):\n",
    "        total_counter += 1\n",
    "        if i + j == 6 and i != j:\n",
    "            counter += 1\n",
    "            \n",
    "print(counter)\n",
    "print(total_counter)\n",
    "print(counter / total_counter)"
   ]
  },
  {
   "cell_type": "code",
   "execution_count": null,
   "id": "31d55d5b",
   "metadata": {},
   "outputs": [],
   "source": []
  }
 ],
 "metadata": {
  "kernelspec": {
   "display_name": "Python 3 (ipykernel)",
   "language": "python",
   "name": "python3"
  },
  "language_info": {
   "codemirror_mode": {
    "name": "ipython",
    "version": 3
   },
   "file_extension": ".py",
   "mimetype": "text/x-python",
   "name": "python",
   "nbconvert_exporter": "python",
   "pygments_lexer": "ipython3",
   "version": "3.11.5"
  }
 },
 "nbformat": 4,
 "nbformat_minor": 5
}
