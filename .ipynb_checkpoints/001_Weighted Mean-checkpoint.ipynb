{
 "cells": [
  {
   "cell_type": "markdown",
   "id": "bb6bff1d",
   "metadata": {},
   "source": [
    "Objective\n",
    "In the previous challenge, we calculated a mean. In this challenge, we practice calculating a weighted mean. Check out the Tutorial tab for learning materials and an instructional video!\n",
    "\n",
    "https://www.hackerrank.com/challenges/s10-weighted-mean/problem?isFullScreen=true"
   ]
  },
  {
   "cell_type": "code",
   "execution_count": 1,
   "id": "b2f2926a",
   "metadata": {},
   "outputs": [
    {
     "name": "stdout",
     "output_type": "stream",
     "text": [
      "5\n",
      "10 40 30 50 20\n",
      "1 2 3 4 5\n"
     ]
    }
   ],
   "source": [
    "#!/bin/python3\n",
    "\n",
    "import math\n",
    "import os\n",
    "import random\n",
    "import re\n",
    "import sys\n",
    "\n",
    "#\n",
    "# Complete the 'weightedMean' function below.\n",
    "#\n",
    "# The function accepts following parameters:\n",
    "#  1. INTEGER_ARRAY X\n",
    "#  2. INTEGER_ARRAY W\n",
    "#\n",
    "\n",
    "def weightedMean(X, W):\n",
    "    # Write your code here\n",
    "    pass\n",
    "\n",
    "if __name__ == '__main__':\n",
    "    n = int(input().strip())\n",
    "\n",
    "    vals = list(map(int, input().rstrip().split()))\n",
    "\n",
    "    weights = list(map(int, input().rstrip().split()))\n",
    "\n",
    "    weightedMean(vals, weights)\n"
   ]
  },
  {
   "cell_type": "code",
   "execution_count": 2,
   "id": "9515fc03",
   "metadata": {},
   "outputs": [],
   "source": [
    "def weightedMean(X, W):\n",
    "    total_sum = 0\n",
    "    \n",
    "    for i,j in X, W:\n",
    "        total_sum += (i * J)\n",
    "        \n",
    "    print(total_sum / len(X))"
   ]
  },
  {
   "cell_type": "code",
   "execution_count": 3,
   "id": "ec353b34",
   "metadata": {},
   "outputs": [
    {
     "ename": "ValueError",
     "evalue": "too many values to unpack (expected 2)",
     "output_type": "error",
     "traceback": [
      "\u001b[1;31m---------------------------------------------------------------------------\u001b[0m",
      "\u001b[1;31mValueError\u001b[0m                                Traceback (most recent call last)",
      "Cell \u001b[1;32mIn[3], line 1\u001b[0m\n\u001b[1;32m----> 1\u001b[0m weightedMean(vals, weights)\n",
      "Cell \u001b[1;32mIn[2], line 4\u001b[0m, in \u001b[0;36mweightedMean\u001b[1;34m(X, W)\u001b[0m\n\u001b[0;32m      1\u001b[0m \u001b[38;5;28;01mdef\u001b[39;00m \u001b[38;5;21mweightedMean\u001b[39m(X, W):\n\u001b[0;32m      2\u001b[0m     total_sum \u001b[38;5;241m=\u001b[39m \u001b[38;5;241m0\u001b[39m\n\u001b[1;32m----> 4\u001b[0m     \u001b[38;5;28;01mfor\u001b[39;00m i,j \u001b[38;5;129;01min\u001b[39;00m X, W:\n\u001b[0;32m      5\u001b[0m         total_sum \u001b[38;5;241m+\u001b[39m\u001b[38;5;241m=\u001b[39m (i \u001b[38;5;241m*\u001b[39m J)\n\u001b[0;32m      7\u001b[0m     \u001b[38;5;28mprint\u001b[39m(total_sum \u001b[38;5;241m/\u001b[39m \u001b[38;5;28mlen\u001b[39m(X))\n",
      "\u001b[1;31mValueError\u001b[0m: too many values to unpack (expected 2)"
     ]
    }
   ],
   "source": [
    "weightedMean(vals, weights)"
   ]
  },
  {
   "cell_type": "code",
   "execution_count": 6,
   "id": "78e60e8b",
   "metadata": {},
   "outputs": [],
   "source": [
    "def weightedMean(X, W):\n",
    "    total_sum = 0\n",
    "    \n",
    "    for i in range(len(X)):\n",
    "        total_sum += (X[i] * W[i])\n",
    "        \n",
    "    print(total_sum / sum(W))"
   ]
  },
  {
   "cell_type": "code",
   "execution_count": 7,
   "id": "16809a72",
   "metadata": {},
   "outputs": [
    {
     "name": "stdout",
     "output_type": "stream",
     "text": [
      "32.0\n"
     ]
    }
   ],
   "source": [
    "weightedMean(vals, weights)"
   ]
  },
  {
   "cell_type": "code",
   "execution_count": null,
   "id": "67ee4bbb",
   "metadata": {},
   "outputs": [],
   "source": []
  }
 ],
 "metadata": {
  "kernelspec": {
   "display_name": "Python 3 (ipykernel)",
   "language": "python",
   "name": "python3"
  },
  "language_info": {
   "codemirror_mode": {
    "name": "ipython",
    "version": 3
   },
   "file_extension": ".py",
   "mimetype": "text/x-python",
   "name": "python",
   "nbconvert_exporter": "python",
   "pygments_lexer": "ipython3",
   "version": "3.11.5"
  }
 },
 "nbformat": 4,
 "nbformat_minor": 5
}
