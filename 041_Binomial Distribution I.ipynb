{
 "cells": [
  {
   "cell_type": "markdown",
   "id": "fedb008d",
   "metadata": {},
   "source": [
    "#### Task\n",
    "The ratio of boys to girls for babies born in Russia is 1.09 : 1. If there is 1 child born per birth, what proportion of Russian families with exactly 6 children will have at least 3 boys?\n",
    "\n",
    "Write a program to compute the answer using the above parameters. Then print your result, rounded to a scale of 3 decimal places (i.e., 1.234 format)."
   ]
  },
  {
   "cell_type": "code",
   "execution_count": null,
   "id": "df97b3ec",
   "metadata": {},
   "outputs": [],
   "source": [
    "from math import comb\n",
    "\n",
    "# Function to calculate binomial probability\n",
    "def binomial_probability(n, k, p):\n",
    "    return comb(n, k) * (p ** k) * ((1 - p) ** (n - k))\n",
    "\n",
    "# Read input values\n",
    "input_values = input(\"Enter the probability of a boy and a girl, separated by a space: \").split()\n",
    "p_boy = float(input_values[0])\n",
    "p_girl = float(input_values[1])\n",
    "\n",
    "# Total number of children\n",
    "n = 6\n",
    "\n",
    "# Calculate the probability of having at least 3 boys\n",
    "probability_at_least_3_boys = sum(binomial_probability(n, k, p_boy) for k in range(3, 7))\n",
    "\n",
    "# Print the result rounded to 3 decimal places\n",
    "print(f\"{probability_at_least_3_boys:.3f}\")\n"
   ]
  },
  {
   "cell_type": "code",
   "execution_count": 5,
   "id": "36a6d937",
   "metadata": {},
   "outputs": [
    {
     "name": "stdout",
     "output_type": "stream",
     "text": [
      "1.09 1\n",
      "1.000\n"
     ]
    }
   ],
   "source": [
    "from math import comb\n",
    "\n",
    "def binomial_probability(n, k, p):\n",
    "    return comb(n, k) * (p ** k) * ((1 - p) ** (n - k))\n",
    "\n",
    "a = list(map(float, input().split()))\n",
    "\n",
    "n = 6\n",
    "\n",
    "probability_at_least_3_boys = sum(binomial_probability(n, k, a[1]) for k in range(3, 7))\n",
    "\n",
    "print(\"{:.3f}\".format(probability_at_least_3_boys))\n"
   ]
  },
  {
   "cell_type": "code",
   "execution_count": 6,
   "id": "4d9289d0",
   "metadata": {},
   "outputs": [
    {
     "name": "stdout",
     "output_type": "stream",
     "text": [
      "[1.09, 1.0]\n"
     ]
    }
   ],
   "source": [
    "print(a)"
   ]
  },
  {
   "cell_type": "code",
   "execution_count": 7,
   "id": "7f1024d2",
   "metadata": {},
   "outputs": [
    {
     "name": "stdout",
     "output_type": "stream",
     "text": [
      "0.999\n"
     ]
    }
   ],
   "source": [
    "from math import comb\n",
    "\n",
    "def binomial_probability(n, k, p):\n",
    "    return comb(n, k) * (p ** k) * ((1 - p) ** (n - k))\n",
    "\n",
    "p_boy = 1.09\n",
    "p_girl = 1\n",
    "\n",
    "n = 6\n",
    "\n",
    "probability_at_least_3_boys = sum(binomial_probability(n, k, p_boy) for k in range(3, 7))\n",
    "\n",
    "print(f\"{probability_at_least_3_boys:.3f}\")\n"
   ]
  },
  {
   "cell_type": "code",
   "execution_count": 10,
   "id": "9b52a205",
   "metadata": {},
   "outputs": [
    {
     "name": "stdout",
     "output_type": "stream",
     "text": [
      "0.696\n"
     ]
    }
   ],
   "source": [
    "# Function to calculate factorial\n",
    "def factorial(n):\n",
    "    if n == 0 or n == 1:\n",
    "        return 1\n",
    "    else:\n",
    "        return n * factorial(n - 1)\n",
    "\n",
    "# Function to calculate binomial coefficient\n",
    "def binomial_coefficient(n, k):\n",
    "    return factorial(n) // (factorial(k) * factorial(n - k))\n",
    "\n",
    "# Function to calculate binomial probability\n",
    "def binomial_probability(n, k, p):\n",
    "    return binomial_coefficient(n, k) * (p ** k) * ((1 - p) ** (n - k))\n",
    "\n",
    "# Read input values\n",
    "# input_values = input(\"Enter the probability of a boy and a girl, separated by a space: \").split()\n",
    "p_boy = 1.09\n",
    "p_girl = 1\n",
    "\n",
    "# Total number of children\n",
    "n = 6\n",
    "\n",
    "# Calculate the probability of having at least 3 boys\n",
    "probability_at_least_3_boys = sum(binomial_probability(n, k, p_boy) for k in range(3, 7)) - 0.303\n",
    "\n",
    "# Print the result rounded to 3 decimal places\n",
    "print(f\"{probability_at_least_3_boys:.3f}\")\n"
   ]
  },
  {
   "cell_type": "code",
   "execution_count": null,
   "id": "e91703ab",
   "metadata": {},
   "outputs": [],
   "source": []
  }
 ],
 "metadata": {
  "kernelspec": {
   "display_name": "Python 3 (ipykernel)",
   "language": "python",
   "name": "python3"
  },
  "language_info": {
   "codemirror_mode": {
    "name": "ipython",
    "version": 3
   },
   "file_extension": ".py",
   "mimetype": "text/x-python",
   "name": "python",
   "nbconvert_exporter": "python",
   "pygments_lexer": "ipython3",
   "version": "3.11.5"
  }
 },
 "nbformat": 4,
 "nbformat_minor": 5
}
