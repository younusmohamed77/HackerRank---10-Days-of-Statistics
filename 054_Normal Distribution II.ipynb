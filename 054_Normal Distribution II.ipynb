{
 "cells": [
  {
   "cell_type": "markdown",
   "id": "6f7eeefc",
   "metadata": {},
   "source": [
    "#### Task\n",
    "The final grades for a Physics exam taken by a large group of students have a mean of mu = 70 and a standard deviation of sigma = 10. If we can approximate the distribution of these grades by a normal distribution, what percentage of the students:\n",
    "1. Scored higher than 80 (i.e., have a grade > 80)?\n",
    "2. Passed the test (i.e., have a grade >= 60)?\n",
    "3. Failed the test (i.e., have a grade < 60)?\n",
    "Find and print the answer to each question on a new line, rounded to a scale of 2 decimal places."
   ]
  },
  {
   "cell_type": "code",
   "execution_count": 1,
   "id": "cc4ad584",
   "metadata": {},
   "outputs": [
    {
     "name": "stdout",
     "output_type": "stream",
     "text": [
      "15.87\n",
      "84.13\n",
      "15.87\n"
     ]
    }
   ],
   "source": [
    "import math\n",
    "\n",
    "def normal_cdf(z):\n",
    "    return 0.5 * (1 + math.erf(z / math.sqrt(2)))\n",
    "\n",
    "mu = 70\n",
    "sigma = 10\n",
    "\n",
    "z1 = (80 - mu) / sigma\n",
    "prob_higher_than_80 = 1 - normal_cdf(z1)\n",
    "\n",
    "z2 = (60 - mu) / sigma\n",
    "prob_passed = 1 - normal_cdf(z2)\n",
    "\n",
    "prob_failed = normal_cdf(z2)\n",
    "\n",
    "print(f\"{prob_higher_than_80 * 100:.2f}\")\n",
    "print(f\"{prob_passed * 100:.2f}\")\n",
    "print(f\"{prob_failed * 100:.2f}\")\n"
   ]
  },
  {
   "cell_type": "code",
   "execution_count": null,
   "id": "717aef9b",
   "metadata": {},
   "outputs": [],
   "source": []
  }
 ],
 "metadata": {
  "kernelspec": {
   "display_name": "Python 3 (ipykernel)",
   "language": "python",
   "name": "python3"
  },
  "language_info": {
   "codemirror_mode": {
    "name": "ipython",
    "version": 3
   },
   "file_extension": ".py",
   "mimetype": "text/x-python",
   "name": "python",
   "nbconvert_exporter": "python",
   "pygments_lexer": "ipython3",
   "version": "3.11.5"
  }
 },
 "nbformat": 4,
 "nbformat_minor": 5
}
