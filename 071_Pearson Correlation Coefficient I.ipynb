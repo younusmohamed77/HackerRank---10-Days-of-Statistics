{
 "cells": [
  {
   "cell_type": "markdown",
   "id": "12828608",
   "metadata": {},
   "source": [
    "#### Task\n",
    "Given two n-element data sets, X and Y, calculate the value of the Pearson correlation coefficient.\n",
    "\n",
    "#### Input Format\n",
    "The first line contains an integer, n, denoting the size of data sets X and Y.\n",
    "The second line contains n space-separated real numbers (scaled to at most one decimal place), defining data set X.\n",
    "The third line contains n space-separated real numbers (scaled to at most one decimal place), defining data set Y.\n",
    "\n",
    "#### Output Format\n",
    "Print the value of the Pearson correlation coefficient, rounded to a scale of 3 decimal places."
   ]
  },
  {
   "cell_type": "code",
   "execution_count": 1,
   "id": "982391a3",
   "metadata": {},
   "outputs": [
    {
     "name": "stdout",
     "output_type": "stream",
     "text": [
      "10\n",
      "10 9.8 8 7.8 7.7 7 6 5 4 2\n",
      "200 44 32 24 22 17 15 12 8 4\n",
      "0.612\n"
     ]
    }
   ],
   "source": [
    "def calculate_pearson_correlation_coefficient(n, X, Y):\n",
    "    # Calculate the mean of X and Y\n",
    "    mean_X = sum(X) / n\n",
    "    mean_Y = sum(Y) / n\n",
    "    \n",
    "    # Calculate the numerator and denominators of the Pearson correlation coefficient formula\n",
    "    numerator = sum((X[i] - mean_X) * (Y[i] - mean_Y) for i in range(n))\n",
    "    denominator_X = sum((X[i] - mean_X) ** 2 for i in range(n))\n",
    "    denominator_Y = sum((Y[i] - mean_Y) ** 2 for i in range(n))\n",
    "    \n",
    "    # Calculate Pearson correlation coefficient\n",
    "    denominator = (denominator_X * denominator_Y) ** 0.5\n",
    "    if denominator == 0:\n",
    "        return 0  # Avoid division by zero\n",
    "    r = numerator / denominator\n",
    "    \n",
    "    return round(r, 3)\n",
    "\n",
    "# Read input\n",
    "n = int(input())\n",
    "X = list(map(float, input().split()))\n",
    "Y = list(map(float, input().split()))\n",
    "\n",
    "# Calculate and print Pearson correlation coefficient\n",
    "pearson_coefficient = calculate_pearson_correlation_coefficient(n, X, Y)\n",
    "print(f\"{pearson_coefficient:.3f}\")\n"
   ]
  },
  {
   "cell_type": "code",
   "execution_count": null,
   "id": "daf5b680",
   "metadata": {},
   "outputs": [],
   "source": []
  }
 ],
 "metadata": {
  "kernelspec": {
   "display_name": "Python 3 (ipykernel)",
   "language": "python",
   "name": "python3"
  },
  "language_info": {
   "codemirror_mode": {
    "name": "ipython",
    "version": 3
   },
   "file_extension": ".py",
   "mimetype": "text/x-python",
   "name": "python",
   "nbconvert_exporter": "python",
   "pygments_lexer": "ipython3",
   "version": "3.11.5"
  }
 },
 "nbformat": 4,
 "nbformat_minor": 5
}
