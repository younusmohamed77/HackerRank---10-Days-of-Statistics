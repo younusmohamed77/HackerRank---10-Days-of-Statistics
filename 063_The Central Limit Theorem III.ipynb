{
 "cells": [
  {
   "cell_type": "markdown",
   "id": "a959c34c",
   "metadata": {},
   "source": [
    "#### Task\n",
    "You have a sample of 100 values from a population with mean mu = 500 and with standard deviation sigma = 80. Compute the interval that covers the middle 95% of the distribution of the sample mean; in other words, compute A and B such that P(A < x < B) = 0.95. Use the value of z = 1.96. Note that z is the z-score.\n",
    "\n",
    "#### Input Format\n",
    "\n",
    "There are five lines of input (shown below):\n",
    "\n",
    "    100\n",
    "    500\n",
    "    80\n",
    "    .95\n",
    "    1.96\n",
    "The first line contains the sample size. The second and third lines contain the respective mean (mu) and standard deviation (sigma). The fourth line contains the distribution percentage we want to cover (as a decimal), and the fifth line contains the value of z.\n",
    "\n",
    "If you do not wish to read this information from stdin, you can hard-code it into your program.\n",
    "\n",
    "#### Output Format\n",
    "\n",
    "Print the following two lines of output, rounded to a scale of 2 decimal places (i.e., 1.23 format):\n",
    "\n",
    "1. On the first line, print the value of A.\n",
    "2. On the second line, print the value of B."
   ]
  },
  {
   "cell_type": "code",
   "execution_count": 1,
   "id": "c0ade5a9",
   "metadata": {},
   "outputs": [
    {
     "name": "stdout",
     "output_type": "stream",
     "text": [
      "484.32\n",
      "515.68\n"
     ]
    }
   ],
   "source": [
    "# Enter your code here. Read input from STDIN. Print output to STDOUT\n",
    "# Given values\n",
    "import math\n",
    "\n",
    "n = 100\n",
    "mu = 500\n",
    "sigma = 80\n",
    "confidence_level = 0.95\n",
    "z = 1.96\n",
    "\n",
    "# Calculate the standard error of the mean\n",
    "sem = sigma / math.sqrt(n)\n",
    "\n",
    "# Calculate the margin of error\n",
    "margin_of_error = z * sem\n",
    "\n",
    "# Calculate A and B\n",
    "A = mu - margin_of_error\n",
    "B = mu + margin_of_error\n",
    "\n",
    "# Print the results rounded to 2 decimal places\n",
    "print(f\"{A:.2f}\")\n",
    "print(f\"{B:.2f}\")\n"
   ]
  },
  {
   "cell_type": "code",
   "execution_count": null,
   "id": "b5ac2827",
   "metadata": {},
   "outputs": [],
   "source": []
  }
 ],
 "metadata": {
  "kernelspec": {
   "display_name": "Python 3 (ipykernel)",
   "language": "python",
   "name": "python3"
  },
  "language_info": {
   "codemirror_mode": {
    "name": "ipython",
    "version": 3
   },
   "file_extension": ".py",
   "mimetype": "text/x-python",
   "name": "python",
   "nbconvert_exporter": "python",
   "pygments_lexer": "ipython3",
   "version": "3.11.5"
  }
 },
 "nbformat": 4,
 "nbformat_minor": 5
}
