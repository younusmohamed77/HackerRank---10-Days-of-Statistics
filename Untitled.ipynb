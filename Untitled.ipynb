{
 "cells": [
  {
   "cell_type": "markdown",
   "id": "3763719c",
   "metadata": {},
   "source": [
    "A bag contains 2 red marbles and 4 blue marbles. Then, 2 marbles are drawn from the bag, at random, without replacement. If the first marble drawn is red, what is the probability that the second marble is blue?"
   ]
  },
  {
   "cell_type": "code",
   "execution_count": 1,
   "id": "406946e2",
   "metadata": {},
   "outputs": [
    {
     "name": "stdout",
     "output_type": "stream",
     "text": [
      "4/5\n"
     ]
    }
   ],
   "source": [
    "from fractions import Fraction\n",
    "\n",
    "def probability_second_marble_blue():\n",
    "    # Number of blue marbles remaining\n",
    "    blue_marbles = 4\n",
    "    # Total number of marbles remaining\n",
    "    total_marbles = 5\n",
    "    \n",
    "    # Probability calculation\n",
    "    return Fraction(blue_marbles, total_marbles)\n",
    "\n",
    "# Call the function and print the result\n",
    "print(probability_second_marble_blue())\n"
   ]
  },
  {
   "cell_type": "code",
   "execution_count": null,
   "id": "a85645ad",
   "metadata": {},
   "outputs": [],
   "source": []
  }
 ],
 "metadata": {
  "kernelspec": {
   "display_name": "Python 3 (ipykernel)",
   "language": "python",
   "name": "python3"
  },
  "language_info": {
   "codemirror_mode": {
    "name": "ipython",
    "version": 3
   },
   "file_extension": ".py",
   "mimetype": "text/x-python",
   "name": "python",
   "nbconvert_exporter": "python",
   "pygments_lexer": "ipython3",
   "version": "3.11.5"
  }
 },
 "nbformat": 4,
 "nbformat_minor": 5
}
