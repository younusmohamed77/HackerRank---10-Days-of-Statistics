{
 "cells": [
  {
   "cell_type": "markdown",
   "id": "06898705",
   "metadata": {},
   "source": [
    "#### Task\n",
    "The number of tickets purchased by each student for the University X vs. University Y football game follows a distribution that has a mean of mu = 2.4 and a standard deviation of sigma = 2.0.\n",
    "\n",
    "A few hours before the game starts, 100 eager students line up to purchase last-minute tickets. If there are only 250 tickets left, what is the probability that all 100 students will be able to purchase tickets?\n",
    "\n",
    "#### Input Format\n",
    "\n",
    "There are 4 lines of input (shown below):\n",
    "\n",
    "    250\n",
    "    100\n",
    "    2.4\n",
    "    2.0\n",
    "The first line contains the number of last-minute tickets available at the box office. The second line contains the number of students waiting to buy tickets. The third line contains the mean number of purchased tickets, and the fourth line contains the standard deviation.\n",
    "\n",
    "If you do not wish to read this information from stdin, you can hard-code it into your program.\n",
    "\n",
    "#### Output Format\n",
    "\n",
    "Print the probability that 100 students can successfully purchase the remaining 250 tickets, rounded to a scale of 4 decimal places (i.e., 1.2345 format)."
   ]
  },
  {
   "cell_type": "code",
   "execution_count": 1,
   "id": "b63ca50c",
   "metadata": {},
   "outputs": [
    {
     "name": "stdout",
     "output_type": "stream",
     "text": [
      "0.6915\n"
     ]
    }
   ],
   "source": [
    "import math\n",
    "\n",
    "# Input values\n",
    "available_tickets = 250\n",
    "students = 100\n",
    "mean_tickets_per_student = 2.4\n",
    "std_tickets_per_student = 2.0\n",
    "\n",
    "# Calculate the total mean and standard deviation for the sum of tickets\n",
    "total_mean = students * mean_tickets_per_student\n",
    "total_std = math.sqrt(students) * std_tickets_per_student\n",
    "\n",
    "# Calculate the Z-score\n",
    "z = (available_tickets - total_mean) / total_std\n",
    "\n",
    "# Calculate the CDF of the standard normal distribution using the error function\n",
    "def normal_cdf(z):\n",
    "    return 0.5 * (1 + math.erf(z / math.sqrt(2)))\n",
    "\n",
    "# Calculate the probability\n",
    "probability = normal_cdf(z)\n",
    "\n",
    "# Print the probability rounded to 4 decimal places\n",
    "print(f\"{probability:.4f}\")\n"
   ]
  },
  {
   "cell_type": "code",
   "execution_count": null,
   "id": "bf85f0b6",
   "metadata": {},
   "outputs": [],
   "source": []
  }
 ],
 "metadata": {
  "kernelspec": {
   "display_name": "Python 3 (ipykernel)",
   "language": "python",
   "name": "python3"
  },
  "language_info": {
   "codemirror_mode": {
    "name": "ipython",
    "version": 3
   },
   "file_extension": ".py",
   "mimetype": "text/x-python",
   "name": "python",
   "nbconvert_exporter": "python",
   "pygments_lexer": "ipython3",
   "version": "3.11.5"
  }
 },
 "nbformat": 4,
 "nbformat_minor": 5
}
