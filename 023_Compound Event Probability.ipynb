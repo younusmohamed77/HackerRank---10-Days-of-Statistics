{
 "cells": [
  {
   "cell_type": "markdown",
   "id": "c11fe77b",
   "metadata": {},
   "source": [
    "#### Objective\n",
    "In this challenge, we practice calculating the probability of a compound event. We recommend you review today's Probability Tutorial before attempting this challenge.\n",
    "\n",
    "\n",
    "#### Task\n",
    "There are 3 urns labeled X, Y, and Z.\n",
    "\n",
    "\n",
    "- Urn X contains 4 red balls and 3 black balls.\n",
    "- Urn Y contains 5 red balls and 4 black balls.\n",
    "- Urn Z contains 4 red balls and 4 black balls.\n",
    "\n",
    "One ball is drawn from each of the 3 urns. What is the probability that, of the 3 balls drawn, 2 are red and 1 is black?"
   ]
  },
  {
   "cell_type": "code",
   "execution_count": 1,
   "id": "8063d438",
   "metadata": {},
   "outputs": [
    {
     "name": "stdout",
     "output_type": "stream",
     "text": [
      "The probability that 2 are red and 1 is black is: 0.4048\n"
     ]
    }
   ],
   "source": [
    "def calculate_probability():\n",
    "    # Probabilities for each ball from each urn\n",
    "    P_R_X = 4 / 7\n",
    "    P_B_X = 3 / 7\n",
    "    P_R_Y = 5 / 9\n",
    "    P_B_Y = 4 / 9\n",
    "    P_R_Z = 4 / 8\n",
    "    P_B_Z = 4 / 8\n",
    "\n",
    "    # Calculate the probability for each combination\n",
    "    P_comb1 = P_R_X * P_R_Y * P_B_Z\n",
    "    P_comb2 = P_R_X * P_B_Y * P_R_Z\n",
    "    P_comb3 = P_B_X * P_R_Y * P_R_Z\n",
    "\n",
    "    # Total probability\n",
    "    total_probability = P_comb1 + P_comb2 + P_comb3\n",
    "\n",
    "    return total_probability\n",
    "\n",
    "# Output the probability\n",
    "probability = calculate_probability()\n",
    "print(f\"The probability that 2 are red and 1 is black is: {probability:.4f}\")\n"
   ]
  },
  {
   "cell_type": "code",
   "execution_count": 2,
   "id": "1ca97527",
   "metadata": {},
   "outputs": [
    {
     "name": "stdout",
     "output_type": "stream",
     "text": [
      "The probability that 2 are red and 1 is black is: 17/42\n"
     ]
    }
   ],
   "source": [
    "from fractions import Fraction\n",
    "\n",
    "def calculate_probability():\n",
    "    # Probabilities for each ball from each urn\n",
    "    P_R_X = Fraction(4, 7)\n",
    "    P_B_X = Fraction(3, 7)\n",
    "    P_R_Y = Fraction(5, 9)\n",
    "    P_B_Y = Fraction(4, 9)\n",
    "    P_R_Z = Fraction(4, 8)\n",
    "    P_B_Z = Fraction(4, 8)\n",
    "\n",
    "    # Calculate the probability for each combination\n",
    "    P_comb1 = P_R_X * P_R_Y * P_B_Z\n",
    "    P_comb2 = P_R_X * P_B_Y * P_R_Z\n",
    "    P_comb3 = P_B_X * P_R_Y * P_R_Z\n",
    "\n",
    "    # Total probability\n",
    "    total_probability = P_comb1 + P_comb2 + P_comb3\n",
    "\n",
    "    return total_probability\n",
    "\n",
    "# Output the probability\n",
    "probability = calculate_probability()\n",
    "print(f\"The probability that 2 are red and 1 is black is: {probability}\")\n"
   ]
  },
  {
   "cell_type": "code",
   "execution_count": null,
   "id": "9ef06dd9",
   "metadata": {},
   "outputs": [],
   "source": []
  }
 ],
 "metadata": {
  "kernelspec": {
   "display_name": "Python 3 (ipykernel)",
   "language": "python",
   "name": "python3"
  },
  "language_info": {
   "codemirror_mode": {
    "name": "ipython",
    "version": 3
   },
   "file_extension": ".py",
   "mimetype": "text/x-python",
   "name": "python",
   "nbconvert_exporter": "python",
   "pygments_lexer": "ipython3",
   "version": "3.11.5"
  }
 },
 "nbformat": 4,
 "nbformat_minor": 5
}
